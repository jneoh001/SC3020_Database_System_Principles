{
 "cells": [
  {
   "cell_type": "code",
   "execution_count": 1,
   "metadata": {},
   "outputs": [],
   "source": [
    "import pandas as pd \n",
    "import numpy as np \n",
    "import seaborn as sns \n"
   ]
  },
  {
   "cell_type": "code",
   "execution_count": 6,
   "metadata": {},
   "outputs": [],
   "source": [
    "data = pd.read_csv(\"./games.txt\", sep=\" \")"
   ]
  },
  {
   "cell_type": "code",
   "execution_count": 7,
   "metadata": {},
   "outputs": [
    {
     "data": {
      "text/html": [
       "<div>\n",
       "<style scoped>\n",
       "    .dataframe tbody tr th:only-of-type {\n",
       "        vertical-align: middle;\n",
       "    }\n",
       "\n",
       "    .dataframe tbody tr th {\n",
       "        vertical-align: top;\n",
       "    }\n",
       "\n",
       "    .dataframe thead th {\n",
       "        text-align: right;\n",
       "    }\n",
       "</style>\n",
       "<table border=\"1\" class=\"dataframe\">\n",
       "  <thead>\n",
       "    <tr style=\"text-align: right;\">\n",
       "      <th></th>\n",
       "      <th>GAME_DATE_EST\\tTEAM_ID_home\\tPTS_home\\tFG_PCT_home\\tFT_PCT_home\\tFG3_PCT_home\\tAST_home\\tREB_home\\tHOME_TEAM_WINS</th>\n",
       "    </tr>\n",
       "  </thead>\n",
       "  <tbody>\n",
       "    <tr>\n",
       "      <th>0</th>\n",
       "      <td>22/12/2022\\t1610612740\\t126\\t0.484\\t0.926\\t0.3...</td>\n",
       "    </tr>\n",
       "    <tr>\n",
       "      <th>1</th>\n",
       "      <td>22/12/2022\\t1610612762\\t120\\t0.488\\t0.952\\t0.4...</td>\n",
       "    </tr>\n",
       "    <tr>\n",
       "      <th>2</th>\n",
       "      <td>21/12/2022\\t1610612739\\t114\\t0.482\\t0.786\\t0.3...</td>\n",
       "    </tr>\n",
       "    <tr>\n",
       "      <th>3</th>\n",
       "      <td>21/12/2022\\t1610612755\\t113\\t0.441\\t0.909\\t0.2...</td>\n",
       "    </tr>\n",
       "    <tr>\n",
       "      <th>4</th>\n",
       "      <td>21/12/2022\\t1610612737\\t108\\t0.429\\t1\\t0.378\\t...</td>\n",
       "    </tr>\n",
       "    <tr>\n",
       "      <th>...</th>\n",
       "      <td>...</td>\n",
       "    </tr>\n",
       "    <tr>\n",
       "      <th>26646</th>\n",
       "      <td>6/10/2014\\t1610612737\\t93\\t0.419\\t0.821\\t0.421...</td>\n",
       "    </tr>\n",
       "    <tr>\n",
       "      <th>26647</th>\n",
       "      <td>6/10/2014\\t1610612741\\t81\\t0.338\\t0.719\\t0.381...</td>\n",
       "    </tr>\n",
       "    <tr>\n",
       "      <th>26648</th>\n",
       "      <td>6/10/2014\\t1610612747\\t98\\t0.448\\t0.682\\t0.5\\t...</td>\n",
       "    </tr>\n",
       "    <tr>\n",
       "      <th>26649</th>\n",
       "      <td>5/10/2014\\t1610612761\\t99\\t0.44\\t0.771\\t0.333\\...</td>\n",
       "    </tr>\n",
       "    <tr>\n",
       "      <th>26650</th>\n",
       "      <td>4/10/2014\\t1610612748\\t86\\t0.431\\t0.679\\t0.333...</td>\n",
       "    </tr>\n",
       "  </tbody>\n",
       "</table>\n",
       "<p>26651 rows × 1 columns</p>\n",
       "</div>"
      ],
      "text/plain": [
       "      GAME_DATE_EST\\tTEAM_ID_home\\tPTS_home\\tFG_PCT_home\\tFT_PCT_home\\tFG3_PCT_home\\tAST_home\\tREB_home\\tHOME_TEAM_WINS\n",
       "0      22/12/2022\\t1610612740\\t126\\t0.484\\t0.926\\t0.3...                                                               \n",
       "1      22/12/2022\\t1610612762\\t120\\t0.488\\t0.952\\t0.4...                                                               \n",
       "2      21/12/2022\\t1610612739\\t114\\t0.482\\t0.786\\t0.3...                                                               \n",
       "3      21/12/2022\\t1610612755\\t113\\t0.441\\t0.909\\t0.2...                                                               \n",
       "4      21/12/2022\\t1610612737\\t108\\t0.429\\t1\\t0.378\\t...                                                               \n",
       "...                                                  ...                                                               \n",
       "26646  6/10/2014\\t1610612737\\t93\\t0.419\\t0.821\\t0.421...                                                               \n",
       "26647  6/10/2014\\t1610612741\\t81\\t0.338\\t0.719\\t0.381...                                                               \n",
       "26648  6/10/2014\\t1610612747\\t98\\t0.448\\t0.682\\t0.5\\t...                                                               \n",
       "26649  5/10/2014\\t1610612761\\t99\\t0.44\\t0.771\\t0.333\\...                                                               \n",
       "26650  4/10/2014\\t1610612748\\t86\\t0.431\\t0.679\\t0.333...                                                               \n",
       "\n",
       "[26651 rows x 1 columns]"
      ]
     },
     "execution_count": 7,
     "metadata": {},
     "output_type": "execute_result"
    }
   ],
   "source": [
    "data"
   ]
  },
  {
   "cell_type": "code",
   "execution_count": null,
   "metadata": {},
   "outputs": [],
   "source": []
  },
  {
   "cell_type": "code",
   "execution_count": null,
   "metadata": {},
   "outputs": [],
   "source": []
  }
 ],
 "metadata": {
  "kernelspec": {
   "display_name": "Python 3",
   "language": "python",
   "name": "python3"
  },
  "language_info": {
   "codemirror_mode": {
    "name": "ipython",
    "version": 3
   },
   "file_extension": ".py",
   "mimetype": "text/x-python",
   "name": "python",
   "nbconvert_exporter": "python",
   "pygments_lexer": "ipython3",
   "version": "3.11.4"
  },
  "orig_nbformat": 4
 },
 "nbformat": 4,
 "nbformat_minor": 2
}
